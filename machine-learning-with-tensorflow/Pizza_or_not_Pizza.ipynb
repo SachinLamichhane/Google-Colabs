{
  "cells": [
    {
      "cell_type": "markdown",
      "metadata": {
        "id": "NsL5nIDfrdvm"
      },
      "source": [
        "# Task 1\n",
        "\n",
        "Download the dataset \"Pizza or not Pizza\" from Kaggle.com.\n",
        "https://www.kaggle.com/datasets/carlosrunner/pizza-not-pizza/data\n",
        "\n",
        "# Task 2\n",
        "\n",
        "Place the `pizza_not_pizza` folder in your Colab-Environment. (On the same level as this notebook)\n",
        "```\n",
        "|\n",
        "|-- pizza_not_pizza\n",
        "|   |-- pizza\n",
        "|   `-- not_pizza\n",
        "`-- Assignment_CNN-Part-1.ipynb\n",
        "```\n",
        "# Task 3\n",
        "\n",
        "Set up a data generator and use it to build a training and a test dataset. This can be done by using the `flow_from_directory` function of the data generator. Checkout the documentation for details:\n",
        "https://www.tensorflow.org/api_docs/python/tf/keras/preprocessing/image/ImageDataGenerator\n",
        "\n",
        "In order to confirm wether you set up the data correctly try fitting the model provided below. If you get an output from the `fit` function everything is fine.\n",
        "\n",
        "Tips:\n",
        "- Remember to rescale the pixel values\n",
        "- Set the size of the test dataset to 0.2 of the original dataset size.\n",
        "- Be sure to use the constants defined at the beginning of this notebook.\n",
        "\n",
        "# Task 4\n",
        "\n",
        "Add three augmentation options to the data generator. For each one think about why it might makes sense to use this augmentation technique here. Can you improve the validation accuracy?"
      ]
    },
    {
      "cell_type": "code",
      "execution_count": 1,
      "metadata": {
        "id": "Mh1p_Ygfrdvp"
      },
      "outputs": [],
      "source": [
        "import tensorflow as tf\n",
        "from keras.preprocessing.image import ImageDataGenerator\n",
        "import matplotlib.pyplot as plt"
      ]
    },
    {
      "cell_type": "code",
      "source": [
        "from google.colab import drive\n",
        "drive.mount('/content/drive')"
      ],
      "metadata": {
        "colab": {
          "base_uri": "https://localhost:8080/"
        },
        "id": "Xyn9XwKFPTAV",
        "outputId": "d4cafcbb-d8ad-48f2-e9cc-95759d818dff"
      },
      "execution_count": 2,
      "outputs": [
        {
          "output_type": "stream",
          "name": "stdout",
          "text": [
            "Mounted at /content/drive\n"
          ]
        }
      ]
    },
    {
      "cell_type": "code",
      "execution_count": 32,
      "metadata": {
        "id": "zfLmBX9krdvq"
      },
      "outputs": [],
      "source": [
        "DATA_DIR = \"/content/drive/MyDrive/pizza_not_pizza\"\n",
        "BATCH_SIZE = 20\n",
        "IMAGE_HEIGHT = 300\n",
        "IMAGE_WIDTH = 300"
      ]
    },
    {
      "cell_type": "code",
      "execution_count": 33,
      "metadata": {
        "colab": {
          "base_uri": "https://localhost:8080/"
        },
        "id": "WTMaSDS3rdvq",
        "outputId": "81554af8-1e06-4ffa-b538-85e00e0b58c7"
      },
      "outputs": [
        {
          "output_type": "stream",
          "name": "stdout",
          "text": [
            "Found 1574 images belonging to 2 classes.\n",
            "Found 392 images belonging to 2 classes.\n"
          ]
        }
      ],
      "source": [
        "# Start code here ==>\n",
        "data_generator = ImageDataGenerator( rescale = 1.0/255. )\n",
        "\n",
        "train_datagen = ImageDataGenerator(\n",
        "\n",
        "          rescale=1./255,\n",
        "          validation_split=0.2,  # Use 20% of the data for validation\n",
        ")\n",
        "\n",
        "train_generator = train_datagen.flow_from_directory(\n",
        "    DATA_DIR,\n",
        "    batch_size  = 20,\n",
        "    class_mode  = 'binary',\n",
        "    target_size = (300, 300),\n",
        "    subset = 'training'\n",
        "\n",
        ")\n",
        "\n",
        "validation_generator = train_datagen.flow_from_directory(\n",
        "    DATA_DIR,\n",
        "    batch_size  = 20,\n",
        "    class_mode  = 'binary',\n",
        "    target_size = (300, 300),\n",
        "    subset = 'validation'\n",
        ")\n",
        "\n",
        "\n",
        "\n",
        "# End code here <==\n",
        "\n",
        "# Expected output: (Your numbers of images might be different.)\n",
        "# Found 1574 images belonging to 2 classes.\n",
        "# Found 392 images belonging to 2 classes."
      ]
    },
    {
      "cell_type": "code",
      "execution_count": 34,
      "metadata": {
        "id": "CHOSWDedrdvr"
      },
      "outputs": [],
      "source": [
        "model = tf.keras.Sequential([\n",
        "    tf.keras.layers.Conv2D(64, (3,3), activation=\"relu\", input_shape=(IMAGE_HEIGHT, IMAGE_WIDTH, 3)),\n",
        "    tf.keras.layers.MaxPooling2D(2, 2),\n",
        "    tf.keras.layers.Conv2D(32, (3,3), activation=\"relu\"),\n",
        "    tf.keras.layers.MaxPooling2D(2, 2),\n",
        "    tf.keras.layers.Conv2D(16, (3,3), activation=\"relu\"),\n",
        "    tf.keras.layers.MaxPooling2D(2, 2),\n",
        "    tf.keras.layers.Flatten(),\n",
        "    tf.keras.layers.Dense(1, activation=\"sigmoid\"),\n",
        "])"
      ]
    },
    {
      "cell_type": "code",
      "execution_count": 35,
      "metadata": {
        "colab": {
          "base_uri": "https://localhost:8080/"
        },
        "id": "ERvRj2Elrdvr",
        "outputId": "56c4d44f-5d64-4e53-b37b-8561a800d1df"
      },
      "outputs": [
        {
          "output_type": "stream",
          "name": "stdout",
          "text": [
            "Epoch 1/10\n",
            "20/20 - 104s - loss: 0.7989 - accuracy: 0.4900 - val_loss: 0.6928 - val_accuracy: 0.5250 - 104s/epoch - 5s/step\n",
            "Epoch 2/10\n",
            "20/20 - 109s - loss: 0.6939 - accuracy: 0.5375 - val_loss: 0.7126 - val_accuracy: 0.4950 - 109s/epoch - 5s/step\n",
            "Epoch 3/10\n",
            "20/20 - 106s - loss: 0.6914 - accuracy: 0.5275 - val_loss: 0.6589 - val_accuracy: 0.6400 - 106s/epoch - 5s/step\n",
            "Epoch 4/10\n",
            "20/20 - 100s - loss: 0.6851 - accuracy: 0.5875 - val_loss: 0.6396 - val_accuracy: 0.5900 - 100s/epoch - 5s/step\n",
            "Epoch 5/10\n",
            "20/20 - 102s - loss: 0.6700 - accuracy: 0.6000 - val_loss: 0.6543 - val_accuracy: 0.5700 - 102s/epoch - 5s/step\n",
            "Epoch 6/10\n",
            "20/20 - 100s - loss: 0.6513 - accuracy: 0.6175 - val_loss: 0.6116 - val_accuracy: 0.6500 - 100s/epoch - 5s/step\n",
            "Epoch 7/10\n",
            "20/20 - 94s - loss: 0.6344 - accuracy: 0.6300 - val_loss: 0.5806 - val_accuracy: 0.6950 - 94s/epoch - 5s/step\n",
            "Epoch 8/10\n",
            "20/20 - 103s - loss: 0.5869 - accuracy: 0.6800 - val_loss: 0.6075 - val_accuracy: 0.6400 - 103s/epoch - 5s/step\n",
            "Epoch 9/10\n",
            "20/20 - 101s - loss: 0.5955 - accuracy: 0.6875 - val_loss: 0.5798 - val_accuracy: 0.7100 - 101s/epoch - 5s/step\n",
            "Epoch 10/10\n",
            "20/20 - 103s - loss: 0.5712 - accuracy: 0.6950 - val_loss: 0.5569 - val_accuracy: 0.7250 - 103s/epoch - 5s/step\n"
          ]
        }
      ],
      "source": [
        "optimizer = tf.keras.optimizers.RMSprop(learning_rate=0.001)\n",
        "model.compile(optimizer=optimizer,\n",
        "              loss=tf.keras.losses.BinaryCrossentropy(),\n",
        "              metrics=['accuracy'])\n",
        "\n",
        "history = model.fit(\n",
        "            train_generator,\n",
        "            validation_data = validation_generator,\n",
        "            steps_per_epoch = 20,\n",
        "            epochs = 10,\n",
        "            validation_steps = 10,\n",
        "            verbose = 2)"
      ]
    },
    {
      "cell_type": "code",
      "execution_count": 37,
      "metadata": {
        "colab": {
          "base_uri": "https://localhost:8080/",
          "height": 472
        },
        "id": "HQE0wutzrdvr",
        "outputId": "99f8a0d8-5c3e-4dd8-a578-55fd7d9863ad"
      },
      "outputs": [
        {
          "output_type": "execute_result",
          "data": {
            "text/plain": [
              "<matplotlib.legend.Legend at 0x7f9052701f90>"
            ]
          },
          "metadata": {},
          "execution_count": 37
        },
        {
          "output_type": "display_data",
          "data": {
            "text/plain": [
              "<Figure size 640x480 with 1 Axes>"
            ],
            "image/png": "[encoded data removed]"
          },
          "metadata": {}
        }
      ],
      "source": [
        "plt.plot(history.history['accuracy'], label='accuracy')\n",
        "plt.plot(history.history['val_accuracy'], label = 'val_accuracy')\n",
        "plt.xlabel('Epoch')\n",
        "plt.ylabel('Accuracy')\n",
        "plt.ylim([0.4, 1])\n",
        "plt.legend(loc='lower right')\n",
        "\n"
      ]
    }
  ],
  "metadata": {
    "kernelspec": {
      "display_name": "toolbox",
      "language": "python",
      "name": "python3"
    },
    "language_info": {
      "codemirror_mode": {
        "name": "ipython",
        "version": 3
      },
      "file_extension": ".py",
      "mimetype": "text/x-python",
      "name": "python",
      "nbconvert_exporter": "python",
      "pygments_lexer": "ipython3",
      "version": "3.10.4"
    },
    "colab": {
      "provenance": []
    }
  },
  "nbformat": 4,
  "nbformat_minor": 0
}