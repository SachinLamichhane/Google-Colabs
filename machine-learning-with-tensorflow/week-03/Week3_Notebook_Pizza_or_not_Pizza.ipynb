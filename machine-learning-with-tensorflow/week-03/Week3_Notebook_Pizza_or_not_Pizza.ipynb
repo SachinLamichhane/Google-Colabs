{
  "cells": [
    {
      "cell_type": "markdown",
      "metadata": {
        "id": "NsL5nIDfrdvm"
      },
      "source": [
        "# Task 1\n",
        "\n",
        "Download the dataset \"Pizza or not Pizza\" from Kaggle.com.\n",
        "https://www.kaggle.com/datasets/carlosrunner/pizza-not-pizza/data\n",
        "\n",
        "# Task 2\n",
        "\n",
        "Place the `pizza_not_pizza` folder in your Colab-Environment. (On the same level as this notebook)\n",
        "```\n",
        "|\n",
        "|-- pizza_not_pizza\n",
        "|   |-- pizza\n",
        "|   `-- not_pizza\n",
        "`-- Assignment_CNN-Part-1.ipynb\n",
        "```\n",
        "# Task 3\n",
        "\n",
        "Set up a data generator and use it to build a training and a test dataset. This can be done by using the `flow_from_directory` function of the data generator. Checkout the documentation for details:\n",
        "https://www.tensorflow.org/api_docs/python/tf/keras/preprocessing/image/ImageDataGenerator\n",
        "\n",
        "In order to confirm wether you set up the data correctly try fitting the model provided below. If you get an output from the `fit` function everything is fine.\n",
        "\n",
        "Tips:\n",
        "- Remember to rescale the pixel values\n",
        "- Set the size of the test dataset to 0.2 of the original dataset size.\n",
        "- Be sure to use the constants defined at the beginning of this notebook.\n",
        "\n",
        "# Task 4\n",
        "\n",
        "Add three augmentation options to the data generator. For each one think about why it might makes sense to use this augmentation technique here. Can you improve the validation accuracy?"
      ]
    },
    {
      "cell_type": "code",
      "execution_count": 1,
      "metadata": {
        "id": "Mh1p_Ygfrdvp"
      },
      "outputs": [],
      "source": [
        "import tensorflow as tf\n",
        "from keras.preprocessing.image import ImageDataGenerator\n",
        "import matplotlib.pyplot as plt"
      ]
    },
    {
      "cell_type": "code",
      "source": [
        "from google.colab import drive\n",
        "drive.mount('/content/drive')"
      ],
      "metadata": {
        "id": "Xyn9XwKFPTAV",
        "outputId": "d4cafcbb-d8ad-48f2-e9cc-95759d818dff",
        "colab": {
          "base_uri": "https://localhost:8080/"
        }
      },
      "execution_count": 2,
      "outputs": [
        {
          "output_type": "stream",
          "name": "stdout",
          "text": [
            "Mounted at /content/drive\n"
          ]
        }
      ]
    },
    {
      "cell_type": "code",
      "execution_count": 22,
      "metadata": {
        "id": "zfLmBX9krdvq"
      },
      "outputs": [],
      "source": [
        "DATA_DIR = \"/content/drive/MyDrive/pizza_not_pizza\"\n",
        "BATCH_SIZE = 20\n",
        "IMAGE_HEIGHT = 300\n",
        "IMAGE_WIDTH = 300"
      ]
    },
    {
      "cell_type": "code",
      "execution_count": 23,
      "metadata": {
        "id": "WTMaSDS3rdvq",
        "outputId": "b3036795-c934-49d2-8c58-a84c74721319",
        "colab": {
          "base_uri": "https://localhost:8080/"
        }
      },
      "outputs": [
        {
          "output_type": "stream",
          "name": "stdout",
          "text": [
            "Found 1574 images belonging to 2 classes.\n",
            "Found 392 images belonging to 2 classes.\n"
          ]
        }
      ],
      "source": [
        "# Start code here ==>\n",
        "data_generator = ImageDataGenerator( rescale = 1.0/255. )\n",
        "\n",
        "train_datagen = ImageDataGenerator(\n",
        "          rotation_range = 40,\n",
        "          horizontal_flip = True,\n",
        "          rescale=1./255,\n",
        "          validation_split=0.2,  # Use 20% of the data for validation\n",
        ")\n",
        "\n",
        "train_generator = train_datagen.flow_from_directory(\n",
        "    DATA_DIR,\n",
        "    batch_size  = 20,\n",
        "    class_mode  = 'binary',\n",
        "    target_size = (300, 300),\n",
        "    subset = 'training'\n",
        "\n",
        ")\n",
        "\n",
        "validation_generator = train_datagen.flow_from_directory(\n",
        "    DATA_DIR,\n",
        "    batch_size  = 20,\n",
        "    class_mode  = 'binary',\n",
        "    target_size = (300, 300),\n",
        "    subset = 'validation'\n",
        ")\n",
        "\n",
        "\n",
        "\n",
        "# End code here <==\n",
        "\n",
        "# Expected output: (Your numbers of images might be different.)\n",
        "# Found 1574 images belonging to 2 classes.\n",
        "# Found 392 images belonging to 2 classes."
      ]
    },
    {
      "cell_type": "code",
      "execution_count": 24,
      "metadata": {
        "id": "CHOSWDedrdvr"
      },
      "outputs": [],
      "source": [
        "model = tf.keras.Sequential([\n",
        "    tf.keras.layers.Conv2D(32, (3,3), activation=\"relu\", input_shape=(IMAGE_HEIGHT, IMAGE_WIDTH, 3)),\n",
        "    tf.keras.layers.Conv2D(32, (3,3), activation=\"relu\"),\n",
        "    tf.keras.layers.Flatten(),\n",
        "    tf.keras.layers.Dense(1, activation=\"sigmoid\"),\n",
        "])"
      ]
    },
    {
      "cell_type": "code",
      "execution_count": 27,
      "metadata": {
        "id": "ERvRj2Elrdvr",
        "outputId": "8308a7c2-5385-4630-f0be-927bc023e769",
        "colab": {
          "base_uri": "https://localhost:8080/"
        }
      },
      "outputs": [
        {
          "output_type": "stream",
          "name": "stdout",
          "text": [
            "Epoch 1/10\n",
            "20/20 - 124s - loss: 9.0328 - accuracy: 0.5431 - val_loss: 0.7281 - val_accuracy: 0.5800 - 124s/epoch - 6s/step\n",
            "Epoch 2/10\n",
            "20/20 - 116s - loss: 0.7486 - accuracy: 0.5750 - val_loss: 0.7217 - val_accuracy: 0.5250 - 116s/epoch - 6s/step\n",
            "Epoch 3/10\n",
            "20/20 - 114s - loss: 0.7057 - accuracy: 0.5325 - val_loss: 0.6919 - val_accuracy: 0.5250 - 114s/epoch - 6s/step\n",
            "Epoch 4/10\n",
            "20/20 - 114s - loss: 0.7813 - accuracy: 0.5425 - val_loss: 0.6947 - val_accuracy: 0.5550 - 114s/epoch - 6s/step\n",
            "Epoch 5/10\n",
            "20/20 - 116s - loss: 0.8603 - accuracy: 0.5275 - val_loss: 0.7182 - val_accuracy: 0.4750 - 116s/epoch - 6s/step\n",
            "Epoch 6/10\n",
            "20/20 - 137s - loss: 0.7002 - accuracy: 0.4950 - val_loss: 0.6810 - val_accuracy: 0.5750 - 137s/epoch - 7s/step\n",
            "Epoch 7/10\n",
            "20/20 - 126s - loss: 0.7653 - accuracy: 0.4873 - val_loss: 0.6932 - val_accuracy: 0.5100 - 126s/epoch - 6s/step\n",
            "Epoch 8/10\n",
            "20/20 - 123s - loss: 0.6951 - accuracy: 0.5450 - val_loss: 0.6677 - val_accuracy: 0.5700 - 123s/epoch - 6s/step\n",
            "Epoch 9/10\n",
            "20/20 - 130s - loss: 0.7401 - accuracy: 0.5300 - val_loss: 0.6970 - val_accuracy: 0.5500 - 130s/epoch - 6s/step\n",
            "Epoch 10/10\n",
            "20/20 - 122s - loss: 0.6901 - accuracy: 0.5925 - val_loss: 0.7065 - val_accuracy: 0.5350 - 122s/epoch - 6s/step\n"
          ]
        }
      ],
      "source": [
        "optimizer = tf.keras.optimizers.RMSprop(learning_rate=0.001)\n",
        "model.compile(optimizer=optimizer,\n",
        "              loss=tf.keras.losses.BinaryCrossentropy(),\n",
        "              metrics=['accuracy'])\n",
        "\n",
        "history = model.fit(\n",
        "            train_generator,\n",
        "            validation_data = validation_generator,\n",
        "            steps_per_epoch = 20,\n",
        "            epochs = 10,\n",
        "            validation_steps = 10,\n",
        "            verbose = 2)"
      ]
    },
    {
      "cell_type": "code",
      "execution_count": 28,
      "metadata": {
        "id": "HQE0wutzrdvr",
        "outputId": "6fbee833-3896-4a6f-ca33-46c9430cf586",
        "colab": {
          "base_uri": "https://localhost:8080/",
          "height": 472
        }
      },
      "outputs": [
        {
          "output_type": "execute_result",
          "data": {
            "text/plain": [
              "<matplotlib.legend.Legend at 0x7f90441b5bd0>"
            ]
          },
          "metadata": {},
          "execution_count": 28
        },
        {
          "output_type": "display_data",
          "data": {
            "text/plain": [
              "<Figure size 640x480 with 1 Axes>"
            ],
            "image/png": "[encoded data removed]"
          },
          "metadata": {}
        }
      ],
      "source": [
        "plt.plot(history.history['accuracy'], label='accuracy')\n",
        "plt.plot(history.history['val_accuracy'], label = 'val_accuracy')\n",
        "plt.xlabel('Epoch')\n",
        "plt.ylabel('Accuracy')\n",
        "plt.ylim([0.5, 1])\n",
        "plt.legend(loc='lower right')\n",
        "\n"
      ]
    }
  ],
  "metadata": {
    "kernelspec": {
      "display_name": "toolbox",
      "language": "python",
      "name": "python3"
    },
    "language_info": {
      "codemirror_mode": {
        "name": "ipython",
        "version": 3
      },
      "file_extension": ".py",
      "mimetype": "text/x-python",
      "name": "python",
      "nbconvert_exporter": "python",
      "pygments_lexer": "ipython3",
      "version": "3.10.4"
    },
    "colab": {
      "provenance": []
    }
  },
  "nbformat": 4,
  "nbformat_minor": 0
}